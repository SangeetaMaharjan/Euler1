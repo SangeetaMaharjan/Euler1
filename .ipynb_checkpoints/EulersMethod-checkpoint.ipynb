{
 "cells": [
  {
   "cell_type": "markdown",
   "metadata": {},
   "source": [
    "# This program finds the numerical solution using Euler's method of differential equation $\\frac{dy}{dt} = f(t,y)$ with $y(t_0)=y_0$\n",
    "# <font color='red'> Euler's Method $y_{i+1} = y_i + f(t_i,y_i)(t_{i+1}-t_i), i = 0, 1,...,n-1$\n",
    "# <font color='green'> Example: $\\frac{dy}{dt}=y, y(0)=1$. Find the solution on the time $0<t\\le2$\n",
    "# Note its true solution is $y=exp(t)$"
   ]
  },
  {
   "cell_type": "code",
   "execution_count": null,
   "metadata": {},
   "outputs": [],
   "source": [
    "##f=lambda t,y,x:y**2+2*t+x \n",
    "#f(5,1,2\n",
    "from numpy import* \n",
    "y=zeros(5)\n",
    "y"
   ]
  },
  {
   "cell_type": "code",
   "execution_count": null,
   "metadata": {},
   "outputs": [],
   "source": [
    "#import numpy as np \n",
    "#import matplotlib.pyplot as plt \n",
    "from matplotlib.pyplot import*\n",
    "from numpy import*\n",
    "f = lambda t,y: y #for matlab it looks like f=@(t,y)y\n",
    "T = 2\n",
    "n = 10\n",
    "t = np.linspace(0,T,n) \n",
    "y = np.zeros(n)\n",
    "y[0] = 1\n",
    "\n",
    "for i in range(0,n-1):\n",
    "    y[i+1] = y[i] + f(t[i],y[i])*(t[i+1]-t[i])\n",
    "\n",
    "plot(t,y,'r')\n",
    "grid()\n",
    "import pandas as pd\n",
    "data={}\n",
    "data.update({\"time\":t,   \"displacement\":y})\n",
    "#print(data)\n",
    "DF=pd.DataFrame(data)\n",
    "print(DF)\n",
    "DF.to_csv(\"euler.csv\")\n",
    "savefig(\"e.png\")\n"
   ]
  },
  {
   "cell_type": "code",
   "execution_count": null,
   "metadata": {},
   "outputs": [],
   "source": [
    "#import numpy as np \n",
    "#import matplotlib.pyplot as plt \n",
    "'''from matplotlib.pyplot import*\n",
    "from numpy import*\n",
    "f = lambda t,y:2*y #defining function, in matlab it is denoted by f=@(t,y)(y)\n",
    "T = 2\n",
    "n = 100\n",
    "t = np.linspace(0,T,n) \n",
    "y = np.zeros(n)\n",
    "y[0] = 1\n",
    "\n",
    "for i in range(0,n-1):\n",
    "    y[i+1] = y[i] + f(t[i],y[i])*(t[i+1]-t[i])\n",
    "\n",
    "plot(t,y)\n",
    "grid(True)\n",
    "''' \n",
    "import numpy as np \n",
    "import matplotlib.pyplot as plt \n",
    "#from matplotlib.pyplot import*\n",
    "#from numpy import*\n",
    "f = lambda t,y: y\n",
    "T = 2\n",
    "n = 50\n",
    "t = np.linspace(0,T,n) \n",
    "y = np.zeros(n)\n",
    "y[0] = 1\n",
    "true_soln=np.exp(t)\n",
    "for i in range(0,n-1):\n",
    "    y[i+1] = y[i] + f(t[i],y[i])*(t[i+1]-t[i])\n",
    "\n",
    "plt.plot(t,y,'o')\n",
    "plt.plot(t,true_soln)\n",
    "#plt.plot(t,np.exp(t))\n",
    "plt.grid(True)"
   ]
  },
  {
   "cell_type": "code",
   "execution_count": null,
   "metadata": {},
   "outputs": [],
   "source": [
    "# to see the data in table\n",
    "import pandas as pd\n",
    "data={} #making emptylist for data\n",
    "data.update({\"time\":t,\"yvaleu\":y})\n",
    "print(data) #here it print raw data\n",
    "  #to manage the data\n",
    "DF=pd.DataFrame(data)\n",
    "print(DF)"
   ]
  },
  {
   "cell_type": "code",
   "execution_count": null,
   "metadata": {},
   "outputs": [],
   "source": [
    "#import numpy as np \n",
    "#import matplotlib.pyplot as plt \n",
    "'''from matplotlib.pyplot import*\n",
    "from numpy import*\n",
    "f = lambda t,y: y\n",
    "T = 2\n",
    "n = 10\n",
    "t = np.linspace(0,T,n) \n",
    "y = np.zeros(n)\n",
    "y[0] = 1\n",
    "\n",
    "for i in range(0,n-1):\n",
    "    y[i+1] = y[i] + f(t[i],y[i])*(t[i+1]-t[i])\n",
    "\n",
    "plot(t,y)\n",
    "grid(True)\n",
    "'''"
   ]
  },
  {
   "cell_type": "markdown",
   "metadata": {},
   "source": [
    "# <font color='green'>Find the numerical solution using Eular's method of differential equation\n",
    "# $\\frac{dy}{dt}=f(t,y)$ with $y(t_0)=0$\n",
    "# Eulers formula:$ y_{i+1}=y_i+f(t_{i},y_i)(t_{i+1}- t_i)$"
   ]
  },
  {
   "cell_type": "markdown",
   "metadata": {},
   "source": [
    "# <font color='red'>Application:\n",
    "# Charging of capacitor $V = V_c +V_R$\n",
    "# ![img](https://phys.libretexts.org/@api/deki/files/6325/V.25_fix.png?revision=1&size=bestfit&width=400&height=265)\n",
    "# putting q=CV and $V_R=IR=\\frac{dq}{dt}R$ we have $\\frac{dq}{dt}=\\frac{V}{R}-\\frac{q}{RC}$,Given: q(0)=0(initial charge)\n",
    "#<font color='green'> true solution     $ q=q_0(1-exp(-t/(RC)))$"
   ]
  },
  {
   "cell_type": "code",
   "execution_count": null,
   "metadata": {},
   "outputs": [],
   "source": [
    "## now python coding\n",
    "import numpy as np\n",
    "import matplotlib.pyplot as plt\n",
    "f=lambda t,q:(V/R)-(q/(R*C))\n",
    "n=100\n",
    "q = np.zeros(n)\n",
    "q[0]=0\n",
    "T= 5\n",
    "R= 1\n",
    "C= 1\n",
    "V=5\n",
    "qmax=C*V\n",
    "t= np.linspace(0,T,n)\n",
    "true_soln= qmax*(1-np.exp(-t/(R*C)))\n",
    "for i in range(0,n-1):\n",
    "    q[i+1] = q[i]+f(t[i],q[i])*(t[i+1]-t[i])\n",
    "    \n",
    "\n",
    "    \n",
    "    "
   ]
  },
  {
   "cell_type": "code",
   "execution_count": null,
   "metadata": {},
   "outputs": [],
   "source": [
    "plt.plot(t,q)\n",
    "plt.plot(t,true_soln,'or')\n",
    "plt.grid(True)\n",
    "plt.xlabel('time')\n",
    "plt.ylabel('amount of charge')\n",
    "plt.title('charging of capacitor')\n",
    "\n"
   ]
  },
  {
   "cell_type": "code",
   "execution_count": null,
   "metadata": {},
   "outputs": [],
   "source": [
    "# To make the data table\n",
    "import pandas as pd\n",
    "data={}\n",
    "data.update({\"time\":t,\"charge\":q})\n",
    "#print (data)# this is raw data\n",
    "DF=pd.DataFrame(data)\n",
    "print(DF)"
   ]
  },
  {
   "cell_type": "code",
   "execution_count": null,
   "metadata": {},
   "outputs": [],
   "source": [
    "## <font color='red'> Discharging of capacitor $V_C+V_R=0$\n",
    "\n",
    "## put q=CV and $I= \\frac{dq}{dt}$  ,  $\\frac{dq}{dt}=-q/RC$  charge at t=0  is ,$q_0=CV$\n",
    "## Euler's formula: $q_{i+1}=q_i +f(t[i],q[i])*(t[i+1]-t[i])$\n",
    "##<font color='green'> true solution    $q=q_0(exp(-t/(RC))$\n",
    "\n"
   ]
  },
  {
   "cell_type": "code",
   "execution_count": 7,
   "metadata": {},
   "outputs": [],
   "source": [
    "import numpy as np\n",
    "import matplotlib.pyplot as plt\n",
    "f=lambda t,q:-q/(R*C)\n",
    "T=15\n",
    "n=20\n",
    "C=0.005\n",
    "R=200\n",
    "V=5\n",
    "t=np.linspace(0,T,n)\n",
    "q=np.zeros(n)\n",
    "q[0]=C*V\n",
    "true_soln=q[0]*(np.exp(-t/(R*C)))\n",
    "for i in range(0,n-1):\n",
    "    q[i+1]=q[i]+f(t[i],q[i])*(t[i+1]-t[i])\n",
    "    "
   ]
  },
  {
   "cell_type": "code",
   "execution_count": 8,
   "metadata": {},
   "outputs": [
    {
     "data": {
      "image/png": "[encoded data removed]",
      "text/plain": [
       "<Figure size 432x288 with 1 Axes>"
      ]
     },
     "metadata": {
      "needs_background": "light"
     },
     "output_type": "display_data"
    }
   ],
   "source": [
    "plt.plot(t,q)\n",
    "plt.plot(t,true_soln,'or')\n",
    "plt.grid(True)"
   ]
  },
  {
   "cell_type": "code",
   "execution_count": null,
   "metadata": {},
   "outputs": [],
   "source": [
    "\n",
    "import pandas as pd\n",
    "data={}\n",
    "data.update({\"time\":t,\"charge\":q})\n",
    "print(data)\n",
    "DF=pd.DataFrame(data)\n",
    "print(DF)\n"
   ]
  },
  {
   "cell_type": "markdown",
   "metadata": {},
   "source": [
    "# To make data table"
   ]
  },
  {
   "cell_type": "code",
   "execution_count": null,
   "metadata": {},
   "outputs": [],
   "source": [
    "\n",
    "import pandas as pd\n",
    "import numpy as np\n",
    "n=11\n",
    "x=np.linspace(0,20,n)\n",
    "#y1=1/x\n",
    "y2=x**2\n",
    "y3=np.exp(x)\n",
    "#y4=1/x**2\n",
    "data={}\n",
    "data.update({\"value of x:\":x,\"reci.of x\":y1,\"square of x\":y2,\"exponential\":y3,\"reci of sqr\":y4})\n",
    "#print(data)\n",
    "DF= pd.DataFrame(data)\n",
    "print(DF)\n"
   ]
  },
  {
   "cell_type": "code",
   "execution_count": null,
   "metadata": {},
   "outputs": [],
   "source": []
  },
  {
   "cell_type": "markdown",
   "metadata": {},
   "source": [
    "# Solve  first order diff eqn using Euler's method\n",
    "# Example: $ \\frac{dy}{dt}+2y=2- \\exp(-4t)$ ,$y_0=1$"
   ]
  },
  {
   "cell_type": "markdown",
   "metadata": {},
   "source": [
    "# making it into simpler form\n",
    "# $\\frac{dy}{dt}=2-2y-exp(-4t)$        which is of form         $\\frac{dy}{dt}=f(t,y)$,$y_0=1$"
   ]
  },
  {
   "cell_type": "markdown",
   "metadata": {},
   "source": [
    "## Euler's solution : $y_{i+1}=y_i+f(t_i,y_i)(t_{i+1}-t_{i})$"
   ]
  },
  {
   "cell_type": "code",
   "execution_count": null,
   "metadata": {},
   "outputs": [],
   "source": [
    "# python code\n",
    "import numpy as np\n",
    "import matplotlib.pyplot as plt\n",
    "import pandas as pd\n",
    "n= 20\n",
    "T= 5\n",
    "\n",
    "t= np.linspace(0,T,n)\n",
    "y= np.zeros(n)\n",
    "y[0]=1\n",
    "f= lambda t,y:2-2*y-np.exp(-4*t)\n",
    "for i in range(0,n-1):\n",
    "    y[i+1]= y[i]+f(t[i],y[i])*(t[i+1]-t[i])"
   ]
  },
  {
   "cell_type": "code",
   "execution_count": null,
   "metadata": {},
   "outputs": [],
   "source": [
    "plt.plot(t,y)"
   ]
  },
  {
   "cell_type": "code",
   "execution_count": null,
   "metadata": {},
   "outputs": [],
   "source": [
    "data={}\n",
    "data.update({\"time:\":t,    \"function value y:\":y})\n",
    "DF=pd.DataFrame(data)\n",
    "print(DF)"
   ]
  },
  {
   "cell_type": "markdown",
   "metadata": {},
   "source": [
    " \n",
    "# <font color='red'> Rise and decay of current in LR circuit\n",
    "# ![img](https://electricalacademia.com/wp-content/uploads/2016/12/RL-Series-Circuit.gif)\n",
    "# Growth of current:\n",
    "# When switch is on and applyinf kirchoff's voltage rule: $V=V_R +V_L$\n",
    "# where V is supply voltage,$V_R$ is potential across resistro and $V_L$ is induced emf across inductor"
   ]
  },
  {
   "cell_type": "markdown",
   "metadata": {},
   "source": [
    "# put $V_R=IR$, $V_L=L\\frac{dI}{dt}$ in the above relation\n",
    "# we get\n",
    "# <font color='green'> $\\frac{dI}{dt}= \\frac{V}{L}-\\frac{R}{L}I$ which is of the form of $\\frac{dy}{dt}=f(t,y)$\n",
    "# here $I_0=0$, initially there is no current\n",
    "# True solution is   $I=I_{max}(1-exp(-Rt/L))$,where $I_{max} =V/R$, max current in the ckt"
   ]
  },
  {
   "cell_type": "code",
   "execution_count": null,
   "metadata": {},
   "outputs": [],
   "source": [
    "# Python code for solving using Euler's method\n"
   ]
  },
  {
   "cell_type": "code",
   "execution_count": 11,
   "metadata": {},
   "outputs": [
    {
     "data": {
      "text/plain": [
       "[<matplotlib.lines.Line2D at 0x1649ad6d880>]"
      ]
     },
     "execution_count": 11,
     "metadata": {},
     "output_type": "execute_result"
    },
    {
     "data": {
      "image/png": "[encoded data removed]",
      "text/plain": [
       "<Figure size 432x288 with 1 Axes>"
      ]
     },
     "metadata": {
      "needs_background": "light"
     },
     "output_type": "display_data"
    }
   ],
   "source": [
    "import numpy as np\n",
    "import pandas as pd\n",
    "import matplotlib.pyplot as plt\n",
    "f=lambda t,I: V/L-(R/L)*I\n",
    "n=100\n",
    "T=2\n",
    "V=50\n",
    "I=np.zeros(n)\n",
    "I[0]=0\n",
    "R=15\n",
    "L=5\n",
    "Imax=V/R\n",
    "t=np.linspace(0,T,n)\n",
    "truei=Imax*(1-np.exp(-R*t/L))\n",
    "for i in range (0,n-1):\n",
    "    I[i+1]=I[i]+f(t[i],I[i])*(t[i+1]-t[i])\n",
    "plt.plot(t,I,'red')\n",
    "plt.plot(t,truei,'-og')\n",
    "\n",
    "    \n"
   ]
  },
  {
   "cell_type": "code",
   "execution_count": 10,
   "metadata": {},
   "outputs": [
    {
     "data": {
      "text/plain": [
       "[<matplotlib.lines.Line2D at 0x1649b9e48e0>]"
      ]
     },
     "execution_count": 10,
     "metadata": {},
     "output_type": "execute_result"
    },
    {
     "data": {
      "image/png": "[encoded data removed]",
      "text/plain": [
       "<Figure size 432x288 with 1 Axes>"
      ]
     },
     "metadata": {
      "needs_background": "light"
     },
     "output_type": "display_data"
    }
   ],
   "source": [
    "plt.plot(t,truei)"
   ]
  },
  {
   "cell_type": "markdown",
   "metadata": {},
   "source": [
    "# Decay current:\n",
    "# when the battery is removed from the ckt(V=0) then charging condition becomes\n",
    "# $V=V_R+V_L$\n",
    "# $V_L=-V_R$\n",
    "# $ L\\frac{dI}{dt}=-IR$\n",
    "# $\\frac{dI}{dt}=-\\frac{R}{L}I$\n",
    "# true solution= $I_{max}exp(-Rt/L)$, where $I_{max} $is max current     $I_{max}= \\frac{V}{R}$"
   ]
  },
  {
   "cell_type": "code",
   "execution_count": 12,
   "metadata": {},
   "outputs": [
    {
     "data": {
      "text/plain": [
       "<matplotlib.legend.Legend at 0x1649a58e9a0>"
      ]
     },
     "execution_count": 12,
     "metadata": {},
     "output_type": "execute_result"
    },
    {
     "data": {
      "image/png": "[encoded data removed]",
      "text/plain": [
       "<Figure size 432x288 with 1 Axes>"
      ]
     },
     "metadata": {
      "needs_background": "light"
     },
     "output_type": "display_data"
    }
   ],
   "source": [
    "# Code:\n",
    "import numpy as np\n",
    "import pandas as pd\n",
    "import matplotlib.pyplot as plt\n",
    "f=lambda t,I: -(R/L)*I\n",
    "n=20\n",
    "T=2\n",
    "V=50\n",
    "I=np.zeros(n)\n",
    "I[0]=Imax\n",
    "R=15\n",
    "L=5\n",
    "Imax=V/R\n",
    "t=np.linspace(0,T,n)\n",
    "truei=Imax*(np.exp(-R*t/L))\n",
    "for i in range (0,n-1):\n",
    "    I[i+1]=I[i]+f(t[i],I[i])*(t[i+1]-t[i])\n",
    "plt.plot(t,I,'red')\n",
    "plt.plot(t,truei,'-og')\n",
    "plt.legend('decay')"
   ]
  },
  {
   "cell_type": "code",
   "execution_count": 13,
   "metadata": {},
   "outputs": [],
   "source": [
    "#![img](https://electricalacademia.com/wp-content/uploads/2016/12/RL-Series-Circuit.gif)"
   ]
  },
  {
   "cell_type": "code",
   "execution_count": null,
   "metadata": {},
   "outputs": [],
   "source": [
    "# Code:while filling the tank of water\n",
    "import numpy as np\n",
    "import pandas as pd\n",
    "import matplotlib.pyplot as plt\n",
    "f=lambda r,h:2*r*np.pi*h\n",
    "n=20\n",
    "T=1\n",
    "h=10\n",
    "v=np.zeros(n)\n",
    "v[0]=10\n",
    "r=2\n",
    "\n",
    "t=np.linspace(0,T,n)\n",
    "for i in range (0,n-1):\n",
    "    v[i+1]=v[i]+f(t[i],v[i])*(t[i+1]-t[i])\n",
    "    \n",
    "plt.plot(t,v,'or')\n"
   ]
  },
  {
   "cell_type": "code",
   "execution_count": null,
   "metadata": {},
   "outputs": [],
   "source": [
    "data={}\n",
    "data.update({'time:':t,'volume:':v})\n",
    "DF=pd.DataFrame(data)\n",
    "print(DF)"
   ]
  },
  {
   "cell_type": "code",
   "execution_count": null,
   "metadata": {},
   "outputs": [],
   "source": [
    "df=pd.to_csv(\"water tank.csv\")\n",
    "DF.to_csv(\"water tank.csv\")\n",
    "df=pd.read_csv(\"water tank.csv\")"
   ]
  },
  {
   "cell_type": "code",
   "execution_count": null,
   "metadata": {},
   "outputs": [],
   "source": [
    "# Euler second order\n",
    "# f"
   ]
  }
 ],
 "metadata": {
  "kernelspec": {
   "display_name": "Python 3",
   "language": "python",
   "name": "python3"
  },
  "language_info": {
   "codemirror_mode": {
    "name": "ipython",
    "version": 3
   },
   "file_extension": ".py",
   "mimetype": "text/x-python",
   "name": "python",
   "nbconvert_exporter": "python",
   "pygments_lexer": "ipython3",
   "version": "3.8.3"
  }
 },
 "nbformat": 4,
 "nbformat_minor": 4
}
